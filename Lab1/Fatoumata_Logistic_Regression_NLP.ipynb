{
  "cells": [
    {
      "cell_type": "markdown",
      "metadata": {
        "id": "view-in-github",
        "colab_type": "text"
      },
      "source": [
        "<a href=\"https://colab.research.google.com/github/fatimahaidara/NLP_lab1/blob/main/Fatoumata_Logistic_Regression_NLP.ipynb\" target=\"_parent\"><img src=\"https://colab.research.google.com/assets/colab-badge.svg\" alt=\"Open In Colab\"/></a>"
      ]
    },
    {
      "cell_type": "markdown",
      "metadata": {
        "id": "liSQgENTJq4l"
      },
      "source": [
        "In this second part of the lab, we will implement a language identifier trained on the same data, but using Logistic Regression instead of Naive Bayes."
      ]
    },
    {
      "cell_type": "code",
      "execution_count": 13,
      "metadata": {
        "id": "xyd0KJF0Jq4n"
      },
      "outputs": [],
      "source": [
        "import io, sys, math\n",
        "import numpy as np\n",
        "from collections import defaultdict\n",
        "import torch\n",
        "from torch import Tensor"
      ]
    },
    {
      "cell_type": "markdown",
      "metadata": {
        "id": "-hHevW7XJq4o"
      },
      "source": [
        "This function is used to build the dictionary, or vocabulary, which is a mapping from strings (or words) to integers (or indices). This will allow to build vector representations of documents. "
      ]
    },
    {
      "cell_type": "code",
      "execution_count": 14,
      "metadata": {
        "id": "p7Pr1lMHJq4o"
      },
      "outputs": [],
      "source": [
        "def build_dict(filename, threshold=1):\n",
        "    fin = io.open(filename, 'r', encoding='utf-8')\n",
        "    word_dict, label_dict = {}, {}\n",
        "    counts = defaultdict(lambda: 0)\n",
        "    for line in fin:\n",
        "        tokens = line.split()\n",
        "        label = tokens[0]\n",
        "\n",
        "        if not label in label_dict:\n",
        "            label_dict[label] = len(label_dict)\n",
        "\n",
        "        for w in tokens[1:]:\n",
        "            counts[w] += 1\n",
        "            \n",
        "    for k, v in counts.items():\n",
        "        if v > threshold:\n",
        "            word_dict[k] = len(word_dict)\n",
        "    return word_dict, label_dict"
      ]
    },
    {
      "cell_type": "markdown",
      "metadata": {
        "id": "OGceWPQBJq4o"
      },
      "source": [
        "This function is used to load the training dataset, and build vector representations of the training examples. In particular, a document or sentence is represented as a bag of words. Each example correspond to a sparse vector ` x` of dimension `V`, where `V` is the size of the vocabulary. The element `j` of the vector `x` is the number of times the word `j` appears in the document."
      ]
    },
    {
      "cell_type": "code",
      "execution_count": 15,
      "metadata": {
        "id": "fVQUxWhsJq4p"
      },
      "outputs": [],
      "source": [
        "def load_data(filename, word_dict, label_dict):\n",
        "    fin = io.open(filename, 'r', encoding='utf-8')\n",
        "    data = []\n",
        "    dim = len(word_dict)\n",
        "    for line in fin:\n",
        "        tokens = line.split()\n",
        "        label = tokens[0]\n",
        "\n",
        "        yi = label_dict[label]\n",
        "        xi = np.zeros(dim)\n",
        "        for word in tokens[1:]:\n",
        "            if word in word_dict:\n",
        "                wid = word_dict[word]\n",
        "                xi[wid] += 1.0\n",
        "        data.append((yi, xi))\n",
        "    return data"
      ]
    },
    {
      "cell_type": "markdown",
      "metadata": {
        "id": "er3PZbn6Jq4p"
      },
      "source": [
        "First, let's implement the softmax function. Don't forget numerical stability!"
      ]
    },
    {
      "cell_type": "code",
      "execution_count": 16,
      "metadata": {
        "id": "l8s9hV5dJq4p"
      },
      "outputs": [],
      "source": [
        "def softmax(x):\n",
        "  return np.exp(x- np.max(x)) / np.sum(np.exp((x - np.max(x))))"
      ]
    },
    {
      "cell_type": "markdown",
      "metadata": {
        "id": "c4mxd40PJq4p"
      },
      "source": [
        "Now, let's implement the main training loop, by using stochastic gradient descent. The function will iterate over the examples of the training set. For each example, we will first compute the loss, before computing the gradient and performing the update."
      ]
    },
    {
      "cell_type": "code",
      "execution_count": 32,
      "metadata": {
        "id": "RWGKiplYJq4p"
      },
      "outputs": [],
      "source": [
        "def sgd(w, data, niter):\n",
        "    nlabels, dim = w.shape\n",
        "    for iter in range(niter):\n",
        "      train_loss=0\n",
        "      for label,x in data:\n",
        "        y_pred=softmax(np.dot(w,x))\n",
        "        alpha=0.01  #learning rate\n",
        "        \n",
        "        #The loss function \n",
        "        #loss = -(y.T.dot(np.log(sigmoid(x@w))) + (1-y).T.dot(np.log(1-sigmoid(data@ w)))) /nlabels\n",
        "        train_loss = train_loss + np.log(y_pred[label])\n",
        "        \n",
        "        #Performing the update of the weights\n",
        "        sigma_ij=np.zeros(nlabels)\n",
        "        sigma_ij[label]=1\n",
        "        diff=y_pred-sigma_ij\n",
        "        \n",
        "        #The gradient \n",
        "        gradient= diff.reshape(nlabels,1)*x.reshape((1,dim))\n",
        "        #The update\n",
        "        w = w - (alpha*gradient)\n",
        "\n",
        "    return w"
      ]
    },
    {
      "cell_type": "markdown",
      "metadata": {
        "id": "dQWv30wdJq4q"
      },
      "source": [
        "The next function will predict the most probable label corresponding to example `x`, given the trained classifier `w`."
      ]
    },
    {
      "cell_type": "code",
      "execution_count": 33,
      "metadata": {
        "id": "xIK1p66KJq4q"
      },
      "outputs": [],
      "source": [
        "def predict(w, x):\n",
        "    ## FILL CODE\n",
        "    return np.argmax(softmax(np.dot(w,x)))"
      ]
    },
    {
      "cell_type": "markdown",
      "metadata": {
        "id": "xwg7OWhFJq4q"
      },
      "source": [
        "Finally, this function will compute the accuracy of a trained classifier `w` on a validation set."
      ]
    },
    {
      "cell_type": "code",
      "execution_count": 36,
      "metadata": {
        "id": "F91_f753Jq4q"
      },
      "outputs": [],
      "source": [
        "def compute_accuracy(w, valid_data):\n",
        "    ## FILL CODE\n",
        "    nlabels, dim = w.shape\n",
        "\n",
        "    correct = 0\n",
        "    for y,x in valid_data:\n",
        "      \n",
        "\n",
        "      # (y,x) = valid_data[j]\n",
        "      predicted = predict(w,x)  \n",
        "      #for i in range(nlabels):\n",
        "      if y == predicted:\n",
        "        correct += 1\n",
        "    return (correct / float(len(valid_data))) * 100.0\n"
      ]
    },
    {
      "cell_type": "code",
      "execution_count": 39,
      "metadata": {
        "id": "UNz8b-uAJq4q",
        "colab": {
          "base_uri": "https://localhost:8080/"
        },
        "outputId": "b8906c3a-16d2-41c9-b6c4-d755d9c62310"
      },
      "outputs": [
        {
          "output_type": "stream",
          "name": "stdout",
          "text": [
            "\n",
            "** Logistic Regression **\n",
            "\n",
            "\n",
            "Validation accuracy: 90.100\n",
            "\n"
          ]
        }
      ],
      "source": [
        "print(\"\")\n",
        "print(\"** Logistic Regression **\")\n",
        "print(\"\")\n",
        "\n",
        "word_dict, label_dict = build_dict(\"train1.txt\")\n",
        "train_data = load_data(\"train1.txt\", word_dict, label_dict)\n",
        "valid_data = load_data(\"valid1.txt\", word_dict, label_dict)\n",
        "\n",
        "nlabels = len(label_dict)\n",
        "dim = len(word_dict)\n",
        "w = np.zeros([nlabels, dim])\n",
        "w = sgd(w, train_data, 10)\n",
        "print(\"\")\n",
        "print(\"Validation accuracy: %.3f\" % compute_accuracy(w, valid_data))\n",
        "print(\"\")"
      ]
    },
    {
      "cell_type": "markdown",
      "source": [
        "By increase the number of iteration for the update the model perfom well"
      ],
      "metadata": {
        "id": "5qx-HqE6b-ZT"
      }
    }
  ],
  "metadata": {
    "kernelspec": {
      "display_name": "Python 3",
      "language": "python",
      "name": "python3"
    },
    "language_info": {
      "codemirror_mode": {
        "name": "ipython",
        "version": 3
      },
      "file_extension": ".py",
      "mimetype": "text/x-python",
      "name": "python",
      "nbconvert_exporter": "python",
      "pygments_lexer": "ipython3",
      "version": "3.6.2+"
    },
    "colab": {
      "name": "Logistic_Regression_NLP.ipynb",
      "provenance": [],
      "collapsed_sections": [],
      "include_colab_link": true
    }
  },
  "nbformat": 4,
  "nbformat_minor": 0
}
